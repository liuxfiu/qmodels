{
 "cells": [
  {
   "cell_type": "markdown",
   "metadata": {},
   "source": [
    "# Process-Oriented Simulation of M/G/1 Queues"
   ]
  },
  {
   "cell_type": "markdown",
   "metadata": {},
   "source": [
    "The event-driven approach is more than sufficient to handle the single-server queue with the FIFO queuing discipline. However, the situation may get a bit complicated using the event-driven approach, especially when we deal with multiple servers with multiple queues and with more complicated queuing disciplines (such as priority-based scheduling with preemption). \n",
    "\n",
    "One favorable feature of simulus that distinguishes it from most other simulators is its natural support for process-oriented simulation. Simulus provides high-level modeling abstractions (such as traps, semaphores, resources, stores, and mailboxes) for users to create more intuitive and expressive simulation models using the process-oriented approach. We start here to discuss using process-oriented simulation for the single-server queue with exponentially distributed inter-arrival time and a truncated normal distribution for the service time. Later we will expand the proccess-oriented model for more complicated queuing scenarios.\n",
    "\n",
    "Rather than directly scheduling events (one still can if needs to), we create processes and have the processes to run their own course. Each process is a single thread of control. A process can be suspended, sleeping for time or waiting for resources. A process can resume execution, after sleep or when the wait conditions have been satisfied.\n",
    "\n",
    "Before we start this section, let's first run the following so that we can set up the environment and import the necessary packages."
   ]
  },
  {
   "cell_type": "code",
   "execution_count": 1,
   "metadata": {},
   "outputs": [],
   "source": [
    "import random\n",
    "import numpy as np\n",
    "import scipy.stats as stats\n",
    "import simulus\n",
    "from qmodels.rng import expon, truncnorm\n",
    "\n",
    "import matplotlib.pyplot as plt\n",
    "%matplotlib inline\n",
    "\n",
    "# for animation inside the notebook\n",
    "import ipywidgets as widgets\n",
    "from ipywidgets import interact\n",
    "\n",
    "# set up logging for this module\n",
    "import logging\n",
    "log = logging.getLogger(__name__)\n",
    "log.addHandler(logging.NullHandler())"
   ]
  },
  {
   "cell_type": "markdown",
   "metadata": {},
   "source": [
    "## Using Processes"
   ]
  },
  {
   "cell_type": "markdown",
   "metadata": {},
   "source": [
    "For the single-server queue, we use a process to generate the customers. A process starts from a normal function, in this case, `gen_arrivals()`. Within the function, the process enters a for-loop, in which the process sleeps for some time (which is a random value returned from the `inter_arrival_time` generator function), and then creates another process that starts from a function called 'customer'. As its name suggests, the process represents a customer who arrives at the queue. "
   ]
  },
  {
   "cell_type": "code",
   "execution_count": 2,
   "metadata": {},
   "outputs": [],
   "source": [
    "def gen_arrivals():\n",
    "    while True:\n",
    "        sim.sleep(next(inter_arrival_time))\n",
    "        sim.process(customer)"
   ]
  },
  {
   "cell_type": "markdown",
   "metadata": {},
   "source": [
    "The customer process waits for a server to be available. A server in this case is implemented as a resource. A process trying to acquire a resource may be suspended if the resource is unavailable (i.e., if it has been already acquired by another customer). In that case, the process will be put in a queue (with unlimited space) maintained by the resource. \n",
    "\n",
    "Once the server becomes available, one of the waiting processes will be selected. By default, the resource is FIFO: it selects the waiting process who has entered the queue first. When the selected process acquires the server, it sleeps for some time representing the customer being served. The sleep time is a random value returned from the `service_time` generator function. After the sleep, the process releases the server so that if other customer processes are waiting for the server, the server will select the next customer in queue."
   ]
  },
  {
   "cell_type": "code",
   "execution_count": 3,
   "metadata": {},
   "outputs": [],
   "source": [
    "def customer():\n",
    "    log.info('%g: customer arrives (num_in_system=%d->%d)' %\n",
    "             (sim.now, server.num_in_system(), server.num_in_system()+1))\n",
    "    server.acquire()\n",
    "    sim.sleep(next(service_time))\n",
    "    log.info('%g: customer departs (num_in_system=%d->%d)' %\n",
    "             (sim.now, server.num_in_system(), server.num_in_system()-1))\n",
    "    server.release()"
   ]
  },
  {
   "cell_type": "markdown",
   "metadata": {},
   "source": [
    "Now we are ready to simulate the queue. Like before, we instantiate a simulator and then create the two generators for the inter-arrival time and for the service time. For a start, let's use exponential distribution first. After that, we create the server as a resource and then starts the 'gen_arrivals' process. Finally we run the simulation for 10 simulated seconds. The results should be similar to those from the event-driven approach."
   ]
  },
  {
   "cell_type": "code",
   "execution_count": 4,
   "metadata": {
    "scrolled": true
   },
   "outputs": [
    {
     "name": "stderr",
     "output_type": "stream",
     "text": [
      "INFO:__main__:0.117886: customer arrives (num_in_system=0->1)\n",
      "INFO:__main__:0.440574: customer departs (num_in_system=1->0)\n",
      "INFO:__main__:0.442274: customer arrives (num_in_system=0->1)\n",
      "INFO:__main__:1.34061: customer departs (num_in_system=1->0)\n",
      "INFO:__main__:1.4955: customer arrives (num_in_system=0->1)\n",
      "INFO:__main__:1.59616: customer departs (num_in_system=1->0)\n",
      "INFO:__main__:1.78134: customer arrives (num_in_system=0->1)\n",
      "INFO:__main__:2.09363: customer arrives (num_in_system=1->2)\n",
      "INFO:__main__:2.50151: customer departs (num_in_system=2->1)\n",
      "INFO:__main__:2.63192: customer departs (num_in_system=1->0)\n",
      "INFO:__main__:6.51199: customer arrives (num_in_system=0->1)\n",
      "INFO:__main__:7.05751: customer arrives (num_in_system=1->2)\n",
      "INFO:__main__:7.32092: customer departs (num_in_system=2->1)\n",
      "INFO:__main__:8.02589: customer arrives (num_in_system=1->2)\n",
      "INFO:__main__:8.05119: customer arrives (num_in_system=2->3)\n",
      "INFO:__main__:8.95281: customer arrives (num_in_system=3->4)\n",
      "INFO:__main__:9.55017: customer departs (num_in_system=4->3)\n",
      "INFO:__main__:9.5674: customer departs (num_in_system=3->2)\n"
     ]
    }
   ],
   "source": [
    "random.seed(13579) # global random seed\n",
    "\n",
    "# set logging to info level (will print all info messages)\n",
    "logging.basicConfig()\n",
    "logging.getLogger(__name__).setLevel(logging.INFO)\n",
    "\n",
    "sim = simulus.simulator('mm1')\n",
    "inter_arrival_time = expon(1.2, sim.rng().randrange(2**32))\n",
    "service_time = expon(0.8, sim.rng().randrange(2**32))\n",
    "server = sim.resource()\n",
    "sim.process(gen_arrivals)\n",
    "sim.run(10)"
   ]
  },
  {
   "cell_type": "markdown",
   "metadata": {},
   "source": [
    "It's easy to change the service time distribution from exponential to a truncated normal distribution, which specifies a particular range between a and b. We use another generator function for this, called 'truncnorm()', which is also provided in the qmodels.rng module. "
   ]
  },
  {
   "cell_type": "markdown",
   "metadata": {},
   "source": [
    "## Data Collection and Simulation On-the-Fly"
   ]
  },
  {
   "cell_type": "markdown",
   "metadata": {},
   "source": [
    "We are going to run the simulation and show the effect of the service time distribution on the customer's wait time *on the fly*. To do this, we are wrapping around each simulation run using a function called `simrun()`. In this case, we can simply call this function to have one run of the simulation and return the results. Since in our example both `gen_arrivals()` and `customer()` use module global variables: 'sim', 'inter_arrival_time', 'service_time', and 'server'. We need to make them global from the `simrun()` function. In the example code, we create an `mg1` class to hold these variables.\n",
    "\n",
    "To gather the statistics, we use DataCollector provided by simulus. When creating the DataCollector instance, we specify the kind of data to be gathered at the resource. In this example, we would like to keep all the data series for `system_times`, which is just another name for the wait time of all the customers using the resource. When we create the resource, we attach the DataCollector instance. After the simulation run, we retrieve the collected data from the DataCollector instance and return them from the function."
   ]
  },
  {
   "cell_type": "code",
   "execution_count": 5,
   "metadata": {},
   "outputs": [],
   "source": [
    "# turn off  info level printing\n",
    "logging.getLogger(__name__).setLevel(logging.WARNING)\n",
    "\n",
    "def simrun(a, b):\n",
    "    global sim, inter_arrival_time, service_time, server\n",
    "    sim = simulus.simulator('mg1')\n",
    "    inter_arrival_time = expon(1.2, sim.rng().randrange(2**32))\n",
    "    service_time = truncnorm(a, b, sim.rng().randrange(2**32))\n",
    "    dc = simulus.DataCollector(system_times='dataseries(all)')\n",
    "    server = sim.resource(collect=dc)\n",
    "    sim.process(gen_arrivals)\n",
    "    sim.run(1000)\n",
    "    return dc.system_times.data()"
   ]
  },
  {
   "cell_type": "markdown",
   "metadata": {},
   "source": [
    "Now we are all set for interactive plotting. We fix 'a' and use a slider to choose 'b'. The `plot_hist()` function calls `simrun()` to get the wait time of all customers in a list and we plot the histogram accordingly."
   ]
  },
  {
   "cell_type": "code",
   "execution_count": 6,
   "metadata": {},
   "outputs": [
    {
     "data": {
      "application/vnd.jupyter.widget-view+json": {
       "model_id": "e2c8e349a8e54efb86529e2ed52fe799",
       "version_major": 2,
       "version_minor": 0
      },
      "text/plain": [
       "interactive(children=(FloatSlider(value=1.0, description='b', max=2.0, min=0.1), Output()), _dom_classes=('wid…"
      ]
     },
     "metadata": {},
     "output_type": "display_data"
    }
   ],
   "source": [
    "def plot_hist(a, b):\n",
    "    waits = simrun(a, b)\n",
    "    plt.hist(waits, alpha=0.5, bins='auto', density=True)\n",
    "    plt.xlim(0, 8)\n",
    "    plt.show()\n",
    "interact(plot_hist, a=widgets.fixed(0), b=(0.1, 2.0, 0.1))\n",
    "None"
   ]
  },
  {
   "cell_type": "markdown",
   "metadata": {},
   "source": [
    "## Multiple Simulation Runs"
   ]
  },
  {
   "cell_type": "markdown",
   "metadata": {},
   "source": [
    "The wait time shown in the histogram is from one run of the simulation. To be statistically meaningful, we need to run many trials of each simulation setting and show the results with confidence intervals.\n",
    "\n",
    "In the following example, we revise the `simrun()` function to just collect the summary statistics for wait time and return the mean value (which would consume far less time and memory). This is achieved by configuring the DataCollector with the argument 'system_times' set to be 'dataseries' rather than 'dataseries(all)'.\n",
    "\n",
    "We run the simulation for 25 times at each parameter setting. It is important to note that there's a subtle difference from the previous when we create the simulator for each simulation run. Now the simulator is nameless! This is important, because otherwise the simulator will generate the same random sequence regardless of how many times we run the simulation. Without a name, the simulator will be created with a randomly generated name (using the default random number generator in Python's `random` module). Recall that the simulator's attached random number generator is seeded from the namespace (which we do not change since we use the same global random seed) and the simulator's name. In this case, the simulator would create a different random sequence, which is exactly what we'd need. "
   ]
  },
  {
   "cell_type": "code",
   "execution_count": 7,
   "metadata": {},
   "outputs": [],
   "source": [
    "def simrun(a, b):\n",
    "    global sim, inter_arrival_time, service_time, server\n",
    "    sim = simulus.simulator()\n",
    "    inter_arrival_time = expon(1.2, sim.rng().randrange(2**32))\n",
    "    service_time = truncnorm(a, b, sim.rng().randrange(2**32))\n",
    "    dc = simulus.DataCollector(system_times='dataseries')\n",
    "    server = sim.resource(collect=dc)\n",
    "    sim.process(gen_arrivals)\n",
    "    sim.run(100)\n",
    "    return dc.system_times.mean()"
   ]
  },
  {
   "cell_type": "markdown",
   "metadata": {},
   "source": [
    "The following code will run pretty slow. Be prepared! We are conducting 30*25=750 simulation runs before we can get the plot. "
   ]
  },
  {
   "cell_type": "code",
   "execution_count": 8,
   "metadata": {},
   "outputs": [
    {
     "data": {
      "image/png": "[encoded data removed]",
      "text/plain": [
       "<Figure size 432x288 with 1 Axes>"
      ]
     },
     "metadata": {
      "needs_background": "light"
     },
     "output_type": "display_data"
    }
   ],
   "source": [
    "x = np.linspace(0.1, 3.0, 30)\n",
    "y = []\n",
    "e1 = []\n",
    "e2 = []\n",
    "for b in x:\n",
    "    z = []\n",
    "    for _ in range(25):\n",
    "        z.append(simrun(0, b))\n",
    "    z = np.array(z)\n",
    "    y.append(z.mean())\n",
    "    e1.append(np.percentile(z, 5))\n",
    "    e2.append(np.percentile(z, 95))\n",
    "\n",
    "plt.plot(x, y, 'k-')\n",
    "plt.xlim(0, 3.0)\n",
    "plt.title('arrival=exp(1.2), service=truncnorm(0, b)')\n",
    "plt.ylabel('mean customer wait time')\n",
    "plt.xlabel('b')\n",
    "plt.fill_between(x, e1, e2, color='#386cb0', alpha=0.2)\n",
    "plt.show()"
   ]
  },
  {
   "cell_type": "markdown",
   "metadata": {},
   "source": [
    "The above plot shows that the mean wait time generally increases as we increase 'b', which increases both the mean and the standard deviation of the service time. The confidence interval also seems to be getting larger as we increase 'b'. \n",
    "\n",
    "As 'b' increases, the service rate decreases and the difference between the arrival rate and service rate decreases as a result. It takes longer for the simulation to reach steady state. We fixed each simulation run to last for 1000 simulated seconds, which may not be sufficient for a larger 'b'."
   ]
  },
  {
   "cell_type": "code",
   "execution_count": null,
   "metadata": {},
   "outputs": [],
   "source": []
  }
 ],
 "metadata": {
  "kernelspec": {
   "display_name": "Python 3",
   "language": "python",
   "name": "python3"
  },
  "language_info": {
   "codemirror_mode": {
    "name": "ipython",
    "version": 3
   },
   "file_extension": ".py",
   "mimetype": "text/x-python",
   "name": "python",
   "nbconvert_exporter": "python",
   "pygments_lexer": "ipython3",
   "version": "3.7.4"
  }
 },
 "nbformat": 4,
 "nbformat_minor": 2
}
