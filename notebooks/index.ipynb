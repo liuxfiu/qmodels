{
 "cells": [
  {
   "cell_type": "markdown",
   "metadata": {},
   "source": [
    "# Simulation of Queuing Models with Simulus\n",
    "\n",
    "<img src=\"figs/queue.jpg\" align=\"left\" width=\"35%\" alt=\"queue\">"
   ]
  },
  {
   "cell_type": "markdown",
   "metadata": {},
   "source": [
    "[![Binder](https://mybinder.org/badge_logo.svg)](https://mybinder.org/v2/gh/liuxfiu/qmodels.git/master?filepath=notebooks%2Findex.ipynb)\n",
    "\n",
    "This repository contains a tutorial describing how to use simulus to simulate queuing systems. Simulus is an open-source discrete-event simulator in Python. The tutorial consists of several Jupyter notebooks, on which we develop and run simulation code."
   ]
  },
  {
   "cell_type": "markdown",
   "metadata": {},
   "source": [
    "## How to Run this Tutorial\n",
    "\n",
    "1. Launch a live notebook server with these notebooks using [binder](https://beta.mybinder.org/). Access the binder at the following URL: https://mybinder.org/v2/gh/liuxfiu/qmodels.git/master?filepath=notebooks%2Findex.ipynb\n",
    "\n",
    "2. Run these notebooks available in this repository's [notebooks](../notebooks) directory on your own machine. To do that, you need to install the following packages:\n",
    "   * **jupyter**: a web application for sharing interactive documents that contain text, code, and data visualization\n",
    "   * **numpy**: a library for efficient representation of multi-dimensional arrays\n",
    "   * **scipy**: a library for numerical computations, including linear algebra and statistics\n",
    "   * **matplotlib**: a 2-D plotting library\n",
    "\n",
    "   You can install these packages using the `pip` command, such as the following:\n",
    "\n",
    "   ```\n",
    "   python -m pip install --user jupyter numpy scipy matplotlib\n",
    "   ```\n",
    "\n",
    "   You'll also need to install simulus. Check out [Simulus Quick Start](https://simulus.readthedocs.io/en/latest/readme.html) for installation instructions. The simplest method to install simulus is to run the `pip` command, such as:\n",
    "\n",
    "   ```\n",
    "   python -m pip install --user simulus\n",
    "   ```"
   ]
  },
  {
   "cell_type": "markdown",
   "metadata": {},
   "source": [
    "## Test the Environment\n",
    "\n",
    "Make sure you are able to the run the following cell. If an error occurs, it means you are missing some needed packages. If that happens, you need to install the missing packages and restart the notebook to continue with the tutorial."
   ]
  },
  {
   "cell_type": "code",
   "execution_count": 1,
   "metadata": {},
   "outputs": [],
   "source": [
    "# for random distributions, random number generators, statistics\n",
    "import random\n",
    "import numpy as np\n",
    "import scipy.stats as stats\n",
    "\n",
    "# for simulation\n",
    "import simulus\n",
    "\n",
    "# for data visualization\n",
    "import matplotlib.pyplot as plt\n",
    "%matplotlib inline\n",
    "\n",
    "# for animation inside the notebooks\n",
    "import ipywidgets as widgets\n",
    "from ipywidgets import interact"
   ]
  },
  {
   "cell_type": "markdown",
   "metadata": {},
   "source": [
    "## Table of Contents\n",
    "\n",
    "* [Introduction to Queuing Models](intro.ipynb)\n",
    "* [Random Number Generation for Simulation](rng.ipynb)\n",
    "* [M/G/1 Queues](mg1.ipynb)"
   ]
  },
  {
   "cell_type": "code",
   "execution_count": null,
   "metadata": {},
   "outputs": [],
   "source": []
  }
 ],
 "metadata": {
  "kernelspec": {
   "display_name": "Python 3",
   "language": "python",
   "name": "python3"
  },
  "language_info": {
   "codemirror_mode": {
    "name": "ipython",
    "version": 3
   },
   "file_extension": ".py",
   "mimetype": "text/x-python",
   "name": "python",
   "nbconvert_exporter": "python",
   "pygments_lexer": "ipython3",
   "version": "3.7.3"
  }
 },
 "nbformat": 4,
 "nbformat_minor": 2
}
